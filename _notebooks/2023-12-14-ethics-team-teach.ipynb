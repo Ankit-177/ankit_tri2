{
 "cells": [
  {
   "cell_type": "markdown",
   "metadata": {},
   "source": [
    "---\n",
    "toc: true\n",
    "comments: false\n",
    "layout: post\n",
    "title: Legal and Ethical Concerns\n",
    "type: plans\n",
    "courses: { compsci: {week: 4} }\n",
    "---"
   ]
  },
  {
   "cell_type": "markdown",
   "metadata": {},
   "source": [
    "Essential Knowledge \n",
    "- IOC-1.F.1 Material created on a computer is the intellectual property of the creator or an organization. \n",
    "- IOC-1.F.2 Ease of access and distribution of digitized information raises intellectual property concerns regarding ownership, value, and use. \n",
    "- IOC-1.F.3 Measures should be taken to safeguard intellectual property. \n",
    "- IOC-1.F.4 The use of material created by someone else without permission and presented as one’s own is plagiarism and may have legal consequences.\n",
    "- IOC-1.F.6 The use of material created by someone other than you should always be cited. \n",
    "- IOC-1.F.7 Creative Commons, open source, and open access have enabled broad access to digital information.\n",
    "- IOC-1.F.8 As with any technology or medium, using computing to harm individuals or groups of people raises legal and ethical concerns. \n",
    "- IOC-1.F.9 Computing can play a role in social and political issues, which in turn often raises legal and ethical concerns."
   ]
  },
  {
   "cell_type": "markdown",
   "metadata": {},
   "source": [
    "## What is intellectual property?\n",
    "\n",
    "Intellectual property is a work or invention that is the result of creativity, to which one has rights over. \n",
    "\n",
    "In the modernized world today, intellectual property can be shared more easily now through the Internet. This raises concerns about who owns something that was created digitally. \n"
   ]
  },
  {
   "cell_type": "markdown",
   "metadata": {},
   "source": [
    "## Copyright\n",
    "\n",
    "Copyright protects your IP and keeps anyone else from using it, unless they have permission. Anything you create like a picture u took or a digital drawing, you automatically own an “All rights reserved” copyright. If we pretend that material is our own then it becomes plagiarism \n",
    "\n",
    "There are ways to create material for others to use: \n",
    "\n",
    "Creative Commons\n",
    "- Provides free licenses that you can use to tell others how you want them to use your creation\n",
    "- Examples: If you draw a picture and you want other people to use and distribute it without asking for permission. If you have a song that you want to freely share \n",
    "- It clearly outlines whether certain people can use it for creative commons, whether it’s commercial or for another reason \n",
    "\n",
    "Open Source\n",
    "- Are open for anyone to use and the IP can modified in whatever ways people want, thus encouraging open collaboration \n",
    "- Refers exclusively to software\n",
    "\n",
    "Open Access \n",
    "- Online research output free of any restrictions (like copyright or licesnse restrictions) and free of use so people can use this however they wish\n",
    "- Example: Open access databases with journals and research papers for others to reference and use"
   ]
  },
  {
   "cell_type": "markdown",
   "metadata": {},
   "source": [
    "## <font color = \"FFC0C9\"> Popcorn Hack 1 </font> \n",
    "\n",
    "- Give an example of an open source software and explain why it is an open source.<br>\n",
    "Answer: An example of an open-source software is Python, because it involved multiple people in its development and feature additions."
   ]
  },
  {
   "cell_type": "markdown",
   "metadata": {},
   "source": [
    "## Legal/Ethical Concerns\n",
    "\n",
    "No matter how you use something, it’s still important to cite information and give credit where it belongs. There is so information at our fingertips and though open source programs may be created with good intentions, people will sometimes use these open sources and modify them to harm individuals or groups. \n",
    "\n",
    "There are legal concerns regarding computing devices that collect and analyze data by monitoring individual activity. Digital media downloads can sometimes include viruses and harmful programs\n",
    "\n",
    "#### Digital Divide and Bias \n",
    "\n",
    "Some softwares may include algorithms with bias. The training data for the software might underrepresent certain groups or demographics. Lack of fairness in algorithmic decision-making can perpetuate societal inequalities.\n",
    "\n",
    "The digital divide is the unequal distribution of access to technology Although the Internet provides all these resources for us to use, certain groups of people do not have the technology readily available for them to use. These databases and online resources are only beneficial to those who have the opportunities and privileges to understand and access technology. \n"
   ]
  },
  {
   "cell_type": "markdown",
   "metadata": {},
   "source": [
    "## <font color = \"FFC0C9\"> Popcorn Hack 2 </font> \n",
    "\n",
    "- What is another legal or ethical concern regarding intellectual property in technology?<br>\n",
    "Answer: Another legal or ethical concern regarding intellectual property is pirating. Private or paid technology can be pirated and released to the public unlawfully, which goes against the intellectual property rights."
   ]
  },
  {
   "cell_type": "markdown",
   "metadata": {},
   "source": [
    "## <font color = \"yellow\"> Homework </font> \n",
    "\n",
    "Complete these five free response questions and send them to Taj on slack by December 21, 11:59 pm. You will be graded on how much effort you put into your answer. \n",
    "\n",
    "1. What is the difference between open source and open access? \n",
    "- Open source technology refers to technology that is open to public modification, as the source code is open for modification by anyone. For example, Python is an open source software as its development relies on public collaboration; this is the case even to this day. On the other hand, open access refers to technology that is accessible but not modifiable by the public. An example of an open access technology is Google, as it is accesible by anyone but cannot be modified in terms of software functionalities.\n",
    "\n",
    "2. What is the importance of copyright?\n",
    "- Copyright is important because it protects the value of a novel technology or product created by an author or a group of authors. It protects the technology from unlawful or unwanted usage, as multiple laws surround the usage of copyrighted products. As a result, the safety blanket of copryright laws motivates creators to develop their technologies with no fear of data theft or unlawful content modification, creating a safe development environment.\n",
    "\n",
    "3. What is a way people can harm individuals or groups through open source data? \n",
    "- People can harm individuals or groups in many ways with access to their open source data. Malefactors can download viruses and completely erase the open source data that was available to them in order to defame or destroy the livelihoods of the creators. Furthermore, malefactors can steal the technology and claim it as their own, completely discrediting the original work done by the original creators.\n",
    "\n",
    "4. What term describes the uequal distribution of access to technology? \n",
    "- The term that describes the unequal distribution of access to technology is \"digital divide\". Although most of the resources found on the internet can be accessed and used by anybody with the right technology, there might be groups of people who do not have the right technology to use the features provided by the internet. Only people with the knowledge and the hardware to access the many resources available on the internet can take advantage of them, creating a digital divide between these people and the ones who do not have access to the internet itself.\n",
    "\n",
    "5. How do you see intellectual property in 20 years (be creative)?\n",
    "- With the advent of secure technologies such as online financing and the shift of personal data storage to online avenues, I see intellectual property and the laws surrounding it becoming more strict and secure in the next 20 years. With such critical data online, intellectual property is only going to get more secure as time goes on in order to protect this data from malefactors. Conversely, with the advancement of AI technologies, intellectual property could become less and less valuable as AI creations overtake the work done by human developers, making the power of mass, high-quality creation available for anybody to exploit. At such a point, intellectal property would become almost meaningless, as powerful data stealing and technology creation is at everyone's fingertips."
   ]
  }
 ],
 "metadata": {
  "language_info": {
   "name": "python"
  }
 },
 "nbformat": 4,
 "nbformat_minor": 2
}
